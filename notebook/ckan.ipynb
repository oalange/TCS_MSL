{
 "cells": [
  {
   "cell_type": "markdown",
   "metadata": {},
   "source": [
    "# Interaction with the CKAN API\n",
    "---\n",
    "In tcs_portal.py several api calls are defined as different routines:\n",
    "\n",
    "1. Retrieve all lab identifiers as a list\n",
    "2. Get individual lab information\n",
    "3. Get data publications from a lab\n",
    "4. Get the number of data publications for a lab (used in the TNA portal)\n",
    "5. Get domain information\n",
    "6. Get all publications from the database"
   ]
  },
  {
   "cell_type": "code",
   "execution_count": 1,
   "metadata": {},
   "outputs": [
    {
     "name": "stdout",
     "output_type": "stream",
     "text": [
      "/Users/otto/GitHub/TCS_MSL_env\n"
     ]
    }
   ],
   "source": [
    "# extend the Python search path for usage within this NB\n",
    "\n",
    "import os\n",
    "import sys\n",
    "parent_dir = os.path.split(os.getcwd())[0]\n",
    "if parent_dir not in sys.path:\n",
    "    sys.path.append(parent_dir)\n",
    "print(parent_dir)"
   ]
  },
  {
   "cell_type": "code",
   "execution_count": 2,
   "metadata": {},
   "outputs": [],
   "source": [
    "import infra_msl.msl_portal.tcs_portal as portal\n",
    "import lib.json_io"
   ]
  },
  {
   "cell_type": "markdown",
   "metadata": {},
   "source": [
    "## Get a list of all lab identifiers in the database and fill a list of dicts with descriptions and names.\n",
    "---\n",
    "List is 'labInfo'\n",
    "\n",
    "Next step to do: present the description as nice formatted MD (source description is also MD)."
   ]
  },
  {
   "cell_type": "code",
   "execution_count": 5,
   "metadata": {},
   "outputs": [],
   "source": [
    "portal_requests = portal.TCS_PortalRequests()\n",
    "identifiers = portal_requests.retrieveAllIdentifiers()\n",
    "labInfo = []\n",
    "for identifier in identifiers:\n",
    "    ckanLabRecord = portal_requests.getJSONLabDescription(identifier)\n",
    "    # print(ckanLabRecord)\n",
    "    lab_name = ckanLabRecord['result']['display_name']\n",
    "    lab_description = ckanLabRecord['result']['description']\n",
    "    entry = {'identifier': identifier, 'name': lab_name, 'description': lab_description}\n",
    "    labInfo.append(entry)"
   ]
  },
  {
   "cell_type": "code",
   "execution_count": 6,
   "metadata": {},
   "outputs": [
    {
     "ename": "NameError",
     "evalue": "name 'custom_json' is not defined",
     "output_type": "error",
     "traceback": [
      "\u001b[0;31m---------------------------------------------------------------------------\u001b[0m",
      "\u001b[0;31mNameError\u001b[0m                                 Traceback (most recent call last)",
      "\u001b[0;32m<ipython-input-6-6c75718159bd>\u001b[0m in \u001b[0;36m<module>\u001b[0;34m\u001b[0m\n\u001b[1;32m      1\u001b[0m \u001b[0;32mfor\u001b[0m \u001b[0mlab\u001b[0m \u001b[0;32min\u001b[0m \u001b[0mlabInfo\u001b[0m\u001b[0;34m:\u001b[0m\u001b[0;34m\u001b[0m\u001b[0;34m\u001b[0m\u001b[0m\n\u001b[0;32m----> 2\u001b[0;31m     \u001b[0mjson_out\u001b[0m \u001b[0;34m=\u001b[0m \u001b[0mcustom_json\u001b[0m\u001b[0;34m.\u001b[0m\u001b[0mgetJSONPrettyDumpAsString\u001b[0m\u001b[0;34m(\u001b[0m\u001b[0mlab\u001b[0m\u001b[0;34m)\u001b[0m\u001b[0;34m\u001b[0m\u001b[0;34m\u001b[0m\u001b[0m\n\u001b[0m\u001b[1;32m      3\u001b[0m     \u001b[0mprint\u001b[0m\u001b[0;34m(\u001b[0m\u001b[0mjson_out\u001b[0m\u001b[0;34m)\u001b[0m\u001b[0;34m\u001b[0m\u001b[0;34m\u001b[0m\u001b[0m\n",
      "\u001b[0;31mNameError\u001b[0m: name 'custom_json' is not defined"
     ]
    }
   ],
   "source": [
    "for lab in labInfo:\n",
    "    json_out = custom_json.getJSONPrettyDumpAsString(lab)\n",
    "    print(json_out)"
   ]
  },
  {
   "cell_type": "code",
   "execution_count": null,
   "metadata": {},
   "outputs": [],
   "source": [
    "tcs_portal.retrieveNumberOfLabPublications('cfe0c2589c74e06fba23d5577f82122a')"
   ]
  },
  {
   "cell_type": "code",
   "execution_count": null,
   "metadata": {},
   "outputs": [],
   "source": []
  }
 ],
 "metadata": {
  "kernelspec": {
   "display_name": "TCS_MSL_env",
   "language": "python",
   "name": "tcs_msl_env"
  },
  "language_info": {
   "codemirror_mode": {
    "name": "ipython",
    "version": 3
   },
   "file_extension": ".py",
   "mimetype": "text/x-python",
   "name": "python",
   "nbconvert_exporter": "python",
   "pygments_lexer": "ipython3",
   "version": "3.7.7"
  }
 },
 "nbformat": 4,
 "nbformat_minor": 4
}
