{
 "cells": [
  {
   "cell_type": "markdown",
   "metadata": {
    "toc-hr-collapsed": false
   },
   "source": [
    "# The TCS_MSL datamanager's toolbox"
   ]
  },
  {
   "cell_type": "code",
   "execution_count": 1,
   "metadata": {},
   "outputs": [],
   "source": [
    "import infra, tcs_portal, os"
   ]
  },
  {
   "cell_type": "markdown",
   "metadata": {},
   "source": [
    "## Generating laboratory information from Excel templates\n",
    "\n",
    "### Identifiers\n",
    "\n",
    "Initially we started assigning identifiers to labs in CKAN based on Damian Ulbricht's identifiersfile. Since the templates are going to play an essential role in the assignment of names the scenario has changed a bit.\n",
    "\n",
    "_*New structure*_\n",
    "\n",
    "- The assignment of an identifier remains based on the hash of a certain input string\n",
    "- Formerly, this input string was built as 'name, (affiliation, country)'\n",
    "- Because of the reality of possibly changing names, the input string no longer reflects any meaning (i.e. it does not longer reflect the preferred name by definition)\n",
    "- Therefore, the centralized identifiersfile at GitLab will be comprised of the following JSON-keys:\n",
    "    - 'domain'\n",
    "    - 'inputstring' (fixed together with the identifier, also used for checking)\n",
    "    - 'preferred name' (may change)\n",
    "    - 'affiliation'\n",
    "    - 'identifier'\n",
    "- Algorithm in labinfo-extraction from Excel:\n",
    "    - get name from **required** field name\n",
    "    - if name in {idsfile:inputstring} get corresponding identifier\n",
    "    - else get preferred name ('if other') [could be that this name has been used as inputstring in the past]\n",
    "    - if preferred name in {idsfile:inputstring} get corresponding identifier\n",
    "    - else: lab cannot be disambiguated to existing entry >> possibly new lab\n",
    "    - if possibly new lab generate new id with inputstring {if exists pref name, else name}+(city, country)} [first check on instring city/country (pref-) name]"
   ]
  },
  {
   "cell_type": "code",
   "execution_count": null,
   "metadata": {},
   "outputs": [],
   "source": [
    "# settings\n",
    "\n",
    "working_dir = '/Users/otto/Documents/GitHub/TCS_MSL'\n",
    "\n",
    "PALEOTEMPLATE = '/Users/otto/ownCloud - EPOS/WP16/LABS description service/Lab info collected/Paleomag/Updated_Paleomag_Lab_Description_V6.2/TEMPLATE_Laboratory description_paleomagnetism_V6.2.xlsx'\n",
    "\n",
    "PALEOFILES = '/Users/otto/ownCloud - EPOS/WP16/LABS description service/Lab info collected/Paleomag/Updated_Paleomag_Lab_Description_V6.2/'\n",
    "\n",
    "ROCKTEMPLATE = '/Users/otto/ownCloud - EPOS/WP16/LABS description service/Lab info collected/Rock physics/Updated_Rock_Physics_Lab_Description_V3.2/TEMPLATE_Laboratory description_rock physics_V3.2.xlsx'\n",
    "\n",
    "ROCKFILES = '/Users/otto/ownCloud - EPOS/WP16/LABS description service/Lab info collected/Rock physics/Updated_Rock_Physics_Lab_Description_V3.2/'\n",
    "\n",
    "ANALYTICALTEMPLATE = '/Users/otto/ownCloud - EPOS/WP16/LABS description service/Lab info collected/Analytical&Microscopy/Updated_Analytical&Microscopy_Lab_Description_V3.1/TEMPLATE_Laboratory description_analytical labs_V3.1.xlsx'\n",
    "\n",
    "ANALYTICALFILES = '/Users/otto/ownCloud - EPOS/WP16/LABS description service/Lab info collected/Analytical&Microscopy/Updated_Analytical&Microscopy_Lab_Description_V3.1/'\n",
    "\n",
    "ANALOGUETEMPLATE = '/Users/otto/ownCloud - EPOS/WP16/LABS description service/Lab info collected/Analogue modelling/Updated_Analogue_Lab_Description_V3/TEMPLATE_Laboratory description_analogue modelling_V3.xlsx'\n",
    "\n",
    "ANALOGUEFILES = '/Users/otto/ownCloud - EPOS/WP16/LABS description service/Lab info collected/Analogue modelling/Updated_Analogue_Lab_Description_V3/'\n",
    "    \n",
    "IDENTIFIERSFILE = '/Users/otto/ownCloud - EPOS/WP16/LABS description service/Lab info collected/lab_identifiers.json'\n",
    "\n",
    "JSONOUTPUT = '/Users/otto/Documents/GitLab/inframsl/labs.json'\n",
    "\n",
    "JSONOUTPUT_ISSUES = '/Users/otto/Documents/GitLab/inframsl/labs_issues.json'"
   ]
  },
  {
   "cell_type": "code",
   "execution_count": null,
   "metadata": {},
   "outputs": [],
   "source": [
    "infra.runConversion()"
   ]
  },
  {
   "cell_type": "code",
   "execution_count": 3,
   "metadata": {},
   "outputs": [],
   "source": [
    "myCKAN = tcs_portal.TCS_PortalRequests()"
   ]
  },
  {
   "cell_type": "code",
   "execution_count": 4,
   "metadata": {},
   "outputs": [],
   "source": [
    "ids = myCKAN.retrieveAllIdentifiers()"
   ]
  },
  {
   "cell_type": "code",
   "execution_count": 8,
   "metadata": {},
   "outputs": [
    {
     "name": "stdout",
     "output_type": "stream",
     "text": [
      "['abffc206fde4d92e6a99314edff00f98', '66dea222f20d276d6db8d51f29c6525f', 'c3fff0d9ca9fe9caae131ff2b11f6e67', 'f4b21c52c84ed94a290c0fe62ed8c647', '3b8fed72cf84e5c6bcccb0a74562a95d', 'e85bd300aa400f9bdb807912adb8c518', 'f9e0f3b0be7565fb3b95d1c2ece8978c', '9134453f876c393718c740124f7feaf3', 'e3a4f5d02528d02c516dbea19c20b32c', '9cd562c216daa82792972a074a222c52', '3a9d5ca4a33e7f95d0a2eaa1e8479a13', '6755019ede4f10b7393b127965236096', '3469c2abf3a0d3902c83e3adae683647', '5580650c9a079144208b62291de6e4fe', '02b7608a7e58bf889973a20d82d217fe', '1d216a0482566fbfb46c6677211968f4', 'f40f7fd30b6eb223669ffa5df445b85e', '009b51690050c9179ad1ff09fc8b5fdd', '9ba34c109b827b177aab36e0266b1643', '3f145405812f5c7f69206bbd78b33a86', '2613a7211e1498423ed604baff8efef9', '0d2892477f7ab2a23fdbbd22496e9d90', 'f28005bf8cf9ec0d284d123f0369131b', '5a9b77c98dbf6251c55f7074043e87fd', 'd0133f39c5081a996fa8edfc6bdbaade', 'f2973460d7af47a4cf1dd7853ffb03d7', 'c708c8a6df37eef7e827312f182ea80d', 'c8a8a396b310eb8b6aff45dc25c64864', '84af0ba9f213bc36b12db7903c31e358', '3ffb26ba67914aeb2ec22f93415088a8', 'cfe0c2589c74e06fba23d5577f82122a', '642d15e4962339445cd6b60aebb8571c', '3f93794e1a57b5c3906698aab2c630bc', '4132b6be2d53d0eb91b007e8f9c14d41', '8a1ad1734bdabed2b5ef05f0b6956895', '9663fcbde23eac71f07cd28ac73e9cc0', 'bf6f97618f5714e5c7a3886628315687', '01b0a80e0f68171f033be6b785d25063', 'de06d05ebede454776df07c5de7f0c90', 'ed51809ac7b925c52734482e642fa617', '87b3ae0257c35ac0ce98017d394a4b91', 'db25441a67790eed816ac92fd9937d4e', 'a9a7b6123f48f6a0ce4bdaea1558c84d', '72f006ac24b7b6bc5588d3096ea0111f', '8ba860e8b22b52bec2f96a214f9e2568', '5432344142c578b52daf04e580d3ea14', '31e69c18936ab14ffdecfb7f8695b78a', '15074907275ed2aab90a655e971429b9', '8c098870d3c06b9a98cbde1a50f88027', '9d8748975fd5d8b44cfef516b8deb098', 'other-lab', 'e96d53bc1aafb9357191cc78283cf013', '0cf823da3e5c151a2bd825a91d3b8454', '2cf0b82b7ad792977e26c32eaf79cbb3', '363d2afb2530e6969d25becf07ad0db4', '6c110ea0c47b7a32bbe553b6da1ce193', '1dc5d11b9353599d153f139c02d9e458', 'ff0d8b7e60ac0b69e22ea6b8ecd0ac0d', '818754e4579a6ad6e7fdfd8b97168ab5', '9b8d69fde0d11979bf57761d190bf479', 'a7bb56c14b2a1e34c94b29ab6dba7cf2', '9aa3578c25154d16a83d9902de774de4', 'fc52ed0d9e03a9603828eddc12bdfb7c', '1be8f332e9733337357933a9d72ea232', 'bbbd439a8b031538e65b67ed37fd88d6', 'a4475d854a5a02d4c1dd5e716ccadda6', 'aa45f98e5c098237d0c57b58e5f953e1', 'f780441f60a30a86b752e00adb66f107', '2fbc7ed93520ec97286452aac791c0bc', 'd3ee46d9f26bd5d38cd9212b2a107b2d', '09e434194091574963c80f83d586875d', '912d3d031446daf09e7e6152038f64d3', '25c2850521e61ccfc1056acf7a172a07', 'dd35a3d4b656f3c9bb0d88fe2ff654a2', '5f7c8ccbe6dc7fa403b3f7c6041a76a8']\n"
     ]
    }
   ],
   "source": [
    "print(ids)"
   ]
  },
  {
   "cell_type": "code",
   "execution_count": 4,
   "metadata": {},
   "outputs": [
    {
     "name": "stdout",
     "output_type": "stream",
     "text": [
      "True\n"
     ]
    }
   ],
   "source": [
    "print(myCKAN.identifierInPortal('cdc8a61ba9f1327a72b75602773a8aa4'))"
   ]
  },
  {
   "cell_type": "code",
   "execution_count": 7,
   "metadata": {},
   "outputs": [
    {
     "name": "stdout",
     "output_type": "stream",
     "text": [
      "True\n"
     ]
    }
   ],
   "source": [
    "print(myCKAN.identifierInPortal('f780441f60a30a86b752e00adb66f107'))"
   ]
  },
  {
   "cell_type": "markdown",
   "metadata": {},
   "source": [
    "**Managing individual Excel-file**"
   ]
  },
  {
   "cell_type": "code",
   "execution_count": 1,
   "metadata": {
    "collapsed": true,
    "jupyter": {
     "outputs_hidden": true
    }
   },
   "outputs": [
    {
     "name": "stdout",
     "output_type": "stream",
     "text": [
      "Geomagnetism Laboratory (University of Liverpool, UK)\n",
      "Geomagnetism Laboratory\n",
      "Data publications: 0\n"
     ]
    }
   ],
   "source": [
    "from labinfo.lab_info import labDescription as full_description\n",
    "template_excel_wb = '/Users/otto/ownCloud - EPOS/WP16/LABS description service/Lab info collected/Paleomag/Updated_Paleomag_Lab_Description_V6.2/New_Labs/TEMPLATE_Laboratory description_paleomagnetism_V6.3.xlsx'\n",
    "lab_excel_wb = '/Users/otto/ownCloud - EPOS/WP16/LABS description service/Lab info collected/Paleomag/Updated_Paleomag_Lab_Description_V6.2/New_Labs/Laboratory description_paleomagnetism_Liverpool_V6.3.xlsx'\n",
    "research_field = 'Paleomagnetism'\n",
    "subdomain = 'Paleomagnetic and magnetic data'\n",
    "ids_file = '/Users/otto/ownCloud - EPOS/WP16/LABS description service/Lab info collected/Paleomag/Updated_Paleomag_Lab_Description_V6.2/New_Labs/labnames.json'\n",
    "new_lab = full_description(lab_excel_wb, research_field, subdomain, template_excel_wb, ids_file)"
   ]
  },
  {
   "cell_type": "code",
   "execution_count": 2,
   "metadata": {
    "jupyter": {
     "source_hidden": true
    }
   },
   "outputs": [
    {
     "name": "stdout",
     "output_type": "stream",
     "text": [
      "{'facility': {'type': 'laboratory', 'lab_id': '', 'research_infrastructure_name': 'University of Liverpool', 'facility_name': 'Geomagnetism Laboratory', 'address': {'street_with_number': 'Oliver Lodge Building, Oxford Street', 'postal_code': 'L69 7ZE', 'city': 'Liverpool', 'country': 'United Kingdom'}, 'gps': {'gps_lat': 53.3943, 'gps_lon': -3.0145}, 'website': 'https://www.liverpool.ac.uk/earth-ocean-and-ecological-sciences/research/earth-sciences/geomagnetism/', 'lab_services': {'research_field': 'Paleomagnetism', 'subdomain': ['Paleomagnetic and magnetic data'], 'equipment': [{'equipment_type': 'Rock_Magnetometer', 'equipment_group': 'Other', 'equipment_name': '', 'equipment_secondary_name': 'Tristan microwave palaeointensity system', 'equipment_brand': 'Built in-house', 'equipment_website': 'See facility website', 'equipment_specifics_and_comments': 'Integrated palaeointensity experiments (any Thellier protocol) on 5mm cylinders', 'equipment_quantity': 1.0, 'references': 'Suttie et al., 2010. EPSL 292, 357-362.'}, {'equipment_type': 'Rock_Magnetometer', 'equipment_group': 'Cryogenic', 'equipment_name': '2G cryogenic magnetometer discrete samples', 'equipment_brand': '2G', 'equipment_website': 'See facility website', 'equipment_specifics_and_comments': '', 'equipment_quantity': 1.0, 'references': ''}, {'equipment_type': 'De_Magnetizer', 'equipment_group': 'AF_Demagnetizer', 'equipment_name': '2G in-line AF degaussing', 'equipment_brand': '2G', 'equipment_website': 'See facility website', 'equipment_specifics_and_comments': '', 'equipment_quantity': 1.0, 'references': ''}, {'equipment_type': 'De_Magnetizer', 'equipment_group': 'AF_Demagnetizer', 'equipment_name': 'AGICO AF demagnetizer LDA-5 (up to 200 mT)', 'equipment_brand': 'AGICO', 'equipment_website': 'See facility website', 'equipment_specifics_and_comments': '', 'equipment_quantity': 1.0, 'references': ''}, {'equipment_type': 'Rock_Magnetism', 'equipment_group': 'Susceptibility_Meter', 'equipment_name': 'AGICO Kappabridge KLY5', 'equipment_brand': 'AGICO', 'equipment_website': 'See facility website', 'equipment_specifics_and_comments': '', 'equipment_quantity': 1.0, 'references': ''}, {'equipment_type': 'Rock_Magnetometer', 'equipment_group': 'Spinner', 'equipment_name': 'AGICO spinner magnetometer JR-6', 'equipment_brand': 'AGICO', 'equipment_website': 'See facility website', 'equipment_specifics_and_comments': '', 'equipment_quantity': 2.0, 'references': ''}, {'equipment_type': 'Rock_Magnetism', 'equipment_group': 'Susceptibility_Meter', 'equipment_name': 'Bartington magnetic susceptibility meter', 'equipment_brand': 'Bartington Instruments', 'equipment_website': 'See facility website', 'equipment_specifics_and_comments': '', 'equipment_quantity': 1.0, 'references': ''}, {'equipment_type': 'De_Magnetizer', 'equipment_group': 'Thermal_Demagnetizer', 'equipment_name': 'MMTD80 thermal demagnetizer', 'equipment_brand': 'Magnetic Measurements Ltd', 'equipment_website': 'See facility website', 'equipment_specifics_and_comments': 'Zero or applied field', 'equipment_quantity': 1.0, 'references': ''}, {'equipment_type': 'De_Magnetizer', 'equipment_group': 'Thermal_Demagnetizer', 'equipment_name': 'MMTDSC super-cooled thermal demagnetizer', 'equipment_brand': 'Magnetic Measurements Ltd', 'equipment_website': 'See facility website', 'equipment_specifics_and_comments': 'Zero or applied field', 'equipment_quantity': 1.0, 'references': ''}, {'equipment_type': 'Controlled_Field_Area', 'equipment_group': 'Helmoltz_Coils', 'equipment_name': 'Magnetic Measurements low field cage', 'equipment_brand': 'Magnetic Measurements Ltd', 'equipment_website': 'See facility website', 'equipment_specifics_and_comments': '', 'equipment_quantity': 4.0, 'references': ''}, {'equipment_type': 'Rock_Magnetism', 'equipment_group': 'Variable_Field_Translation_Balance', 'equipment_name': 'Magnetic Measurements variable field translation balance', 'equipment_brand': 'Magnetic Measurements Ltd', 'equipment_website': 'See facility website', 'equipment_specifics_and_comments': '', 'equipment_quantity': 1.0, 'references': ''}, {'equipment_type': 'De_Magnetizer', 'equipment_group': 'Thermal_Demagnetizer', 'equipment_name': 'Other', 'equipment_secondary_name': 'MMTD24', 'equipment_brand': 'Magnetic Measurements Ltd', 'equipment_website': 'See facility website', 'equipment_specifics_and_comments': 'Zero or applied field', 'equipment_quantity': 2.0, 'references': ''}, {'equipment_type': 'De_Magnetizer', 'equipment_group': 'Thermal_Demagnetizer', 'equipment_name': 'Other', 'equipment_secondary_name': 'Slow-cooling oven', 'equipment_brand': 'Built in-house', 'equipment_website': 'See facility website', 'equipment_specifics_and_comments': 'Cools over 1-2 days in zero or applied field', 'equipment_quantity': 1.0, 'references': 'Biggin et al., 2013. GJI 193, 1239-1249.'}], 'measurement': [{'measurement_type': 'Magnetic_Properties', 'measurement_group': 'Hysteresis_Curves', 'measurement_name': '(Backfield) hysteresis curves', 'measured_type_specifics_and_comments': '', 'references': ''}, {'measurement_type': 'Remanent_Magnetisation', 'measurement_group': 'Demagnetization', 'measurement_name': 'AF demagnetization', 'measured_type_specifics_and_comments': '', 'references': ''}, {'measurement_type': 'Remanent_Magnetisation', 'measurement_group': 'Paleointensity', 'measurement_name': 'Absolute paleointensity', 'measured_type_specifics_and_comments': 'Thermal or microwave Thellier, Shaw', 'references': ''}, {'measurement_type': 'Magnetic_Susceptibility', 'measurement_group': 'Anisotropy', 'measurement_name': 'Anisotropy of magnetic susceptibility at room temperature', 'measured_type_specifics_and_comments': '', 'references': ''}, {'measurement_type': 'Magnetic_Susceptibility', 'measurement_group': 'Susceptibility', 'measurement_name': 'Bulk magnetic susceptibility', 'measured_type_specifics_and_comments': '', 'references': ''}, {'measurement_type': 'Magnetic_Properties', 'measurement_group': 'Thermomagnetic_Curves', 'measurement_name': 'High field thermomagnetic curves', 'measured_type_specifics_and_comments': '', 'references': ''}, {'measurement_type': 'Magnetic_Properties', 'measurement_group': 'Hysteresis_Curves', 'measurement_name': 'Hysteresis parameters', 'measured_type_specifics_and_comments': '', 'references': ''}, {'measurement_type': 'Magnetic_Susceptibility', 'measurement_group': 'Susceptibility', 'measurement_name': 'Temperature dependence magnetic susceptibility', 'measured_type_specifics_and_comments': '', 'references': ''}, {'measurement_type': 'Remanent_Magnetisation', 'measurement_group': 'Demagnetization', 'measurement_name': 'Thermal demagnetisation', 'measured_type_specifics_and_comments': '', 'references': ''}]}, 'data_services': [{'service_type': 'TCS_portal_redirection', 'link_label': 'More facility information', 'URL': 'https://epos-msl.uu.nl/organization/about/'}, {'service_type': 'TNA_redirection', 'link_label': 'More information about TNA possibilities at this lab', 'URL': 'will be assigned later'}]}}\n"
     ]
    }
   ],
   "source": [
    "print(new_lab.facility_info)"
   ]
  },
  {
   "cell_type": "code",
   "execution_count": null,
   "metadata": {},
   "outputs": [],
   "source": []
  }
 ],
 "metadata": {
  "kernelspec": {
   "display_name": "TCS_MSL_env",
   "language": "python",
   "name": "tcs_msl_env"
  },
  "language_info": {
   "codemirror_mode": {
    "name": "ipython",
    "version": 3
   },
   "file_extension": ".py",
   "mimetype": "text/x-python",
   "name": "python",
   "nbconvert_exporter": "python",
   "pygments_lexer": "ipython3",
   "version": "3.7.7"
  }
 },
 "nbformat": 4,
 "nbformat_minor": 4
}
