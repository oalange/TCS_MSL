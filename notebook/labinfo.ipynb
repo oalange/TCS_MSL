{
 "cells": [
  {
   "cell_type": "markdown",
   "metadata": {},
   "source": [
    "**Managing individual Excel-file**\n",
    "\n",
    "The process is as follows:\n",
    "\n",
    "1. We receive a new Excel-file from a lab\n",
    "\n",
    "2. The inframsl/labnames.json file is - if the lab is new - extended as a **new version** with a section for this lab, i.e. with a name, an affiliation, an editor_name, and an id_inputstring. The 'id' remains empty.\n",
    "\n",
    "3. The lab_id.labIDs class is initiated with this new updated file. The routine for filling the missing identifiers is executed from this object and the file becomes updated. This one is of course to be checked before it will replace the original labnames.json.\n",
    "\n",
    "4. With this updated identifiers file a labDescription object is created from lab_info. This one is saved to a new file. Check the contents and append it as a new facility to the original inframsl/lab.json\n",
    "\n",
    "This manual work can be automated, but for now it seems appropiate/saver to it this way.\n",
    "\n",
    "Note: there is an issue on the TNA-portal side with the 'equipment_secondary_name' keys."
   ]
  },
  {
   "cell_type": "code",
   "execution_count": 6,
   "metadata": {},
   "outputs": [
    {
     "name": "stdout",
     "output_type": "stream",
     "text": [
      "/Users/otto/GitHub/TCS_MSL_env\n"
     ]
    }
   ],
   "source": [
    "# extend the Python search path for usage within this NB\n",
    "\n",
    "import os\n",
    "import sys\n",
    "parent_dir = os.path.split(os.getcwd())[0]\n",
    "if parent_dir not in sys.path:\n",
    "    sys.path.append(parent_dir)\n",
    "print(parent_dir)"
   ]
  },
  {
   "cell_type": "code",
   "execution_count": 7,
   "metadata": {},
   "outputs": [],
   "source": [
    "# input settings\n",
    "\n",
    "template_excel_wb = '/Users/otto/ownCloud - EPOS/WP16/LABS description service/Lab info collected/Paleomag/Updated_Paleomag_Lab_Description_V6.2/New_Labs/TEMPLATE_Laboratory description_paleomagnetism_V6.3.xlsx'\n",
    "lab_excel_wb = '/Users/otto/ownCloud - EPOS/WP16/LABS description service/Lab info collected/Paleomag/Updated_Paleomag_Lab_Description_V6.2/New_Labs/Laboratory description_paleomagnetism_Liverpool_V6.3.xlsx'\n",
    "research_field = 'Paleomagnetism'\n",
    "subdomain = 'Paleomagnetic and magnetic data'\n",
    "ids_file = '/Users/otto/ownCloud - EPOS/WP16/LABS description service/Lab info collected/Paleomag/Updated_Paleomag_Lab_Description_V6.2/New_Labs/labnames.json'"
   ]
  },
  {
   "cell_type": "code",
   "execution_count": 8,
   "metadata": {},
   "outputs": [
    {
     "name": "stdout",
     "output_type": "stream",
     "text": [
      "Geomagnetism Laboratory (University of Liverpool, UK)\n",
      "Geomagnetism Laboratory\n",
      "Data publications: 0\n"
     ]
    }
   ],
   "source": [
    "from infra_msl.lab_description.lab_info import labDescription as full_description\n",
    "new_lab = full_description(lab_excel_wb, research_field, subdomain, template_excel_wb, ids_file)"
   ]
  },
  {
   "cell_type": "code",
   "execution_count": 2,
   "metadata": {},
   "outputs": [
    {
     "name": "stdout",
     "output_type": "stream",
     "text": [
      "{'facility': {'type': 'laboratory', 'lab_id': '', 'research_infrastructure_name': 'University of Liverpool', 'facility_name': 'Geomagnetism Laboratory', 'address': {'street_with_number': 'Oliver Lodge Building, Oxford Street', 'postal_code': 'L69 7ZE', 'city': 'Liverpool', 'country': 'United Kingdom'}, 'gps': {'gps_lat': 53.3943, 'gps_lon': -3.0145}, 'website': 'https://www.liverpool.ac.uk/earth-ocean-and-ecological-sciences/research/earth-sciences/geomagnetism/', 'lab_services': {'research_field': 'Paleomagnetism', 'subdomain': ['Paleomagnetic and magnetic data'], 'equipment': [{'equipment_type': 'Rock_Magnetometer', 'equipment_group': 'Other', 'equipment_name': '', 'equipment_secondary_name': 'Tristan microwave palaeointensity system', 'equipment_brand': 'Built in-house', 'equipment_website': 'See facility website', 'equipment_specifics_and_comments': 'Integrated palaeointensity experiments (any Thellier protocol) on 5mm cylinders', 'equipment_quantity': 1.0, 'references': 'Suttie et al., 2010. EPSL 292, 357-362.'}, {'equipment_type': 'Rock_Magnetometer', 'equipment_group': 'Cryogenic', 'equipment_name': '2G cryogenic magnetometer discrete samples', 'equipment_brand': '2G', 'equipment_website': 'See facility website', 'equipment_specifics_and_comments': '', 'equipment_quantity': 1.0, 'references': ''}, {'equipment_type': 'De_Magnetizer', 'equipment_group': 'AF_Demagnetizer', 'equipment_name': '2G in-line AF degaussing', 'equipment_brand': '2G', 'equipment_website': 'See facility website', 'equipment_specifics_and_comments': '', 'equipment_quantity': 1.0, 'references': ''}, {'equipment_type': 'De_Magnetizer', 'equipment_group': 'AF_Demagnetizer', 'equipment_name': 'AGICO AF demagnetizer LDA-5 (up to 200 mT)', 'equipment_brand': 'AGICO', 'equipment_website': 'See facility website', 'equipment_specifics_and_comments': '', 'equipment_quantity': 1.0, 'references': ''}, {'equipment_type': 'Rock_Magnetism', 'equipment_group': 'Susceptibility_Meter', 'equipment_name': 'AGICO Kappabridge KLY5', 'equipment_brand': 'AGICO', 'equipment_website': 'See facility website', 'equipment_specifics_and_comments': '', 'equipment_quantity': 1.0, 'references': ''}, {'equipment_type': 'Rock_Magnetometer', 'equipment_group': 'Spinner', 'equipment_name': 'AGICO spinner magnetometer JR-6', 'equipment_brand': 'AGICO', 'equipment_website': 'See facility website', 'equipment_specifics_and_comments': '', 'equipment_quantity': 2.0, 'references': ''}, {'equipment_type': 'Rock_Magnetism', 'equipment_group': 'Susceptibility_Meter', 'equipment_name': 'Bartington magnetic susceptibility meter', 'equipment_brand': 'Bartington Instruments', 'equipment_website': 'See facility website', 'equipment_specifics_and_comments': '', 'equipment_quantity': 1.0, 'references': ''}, {'equipment_type': 'De_Magnetizer', 'equipment_group': 'Thermal_Demagnetizer', 'equipment_name': 'MMTD80 thermal demagnetizer', 'equipment_brand': 'Magnetic Measurements Ltd', 'equipment_website': 'See facility website', 'equipment_specifics_and_comments': 'Zero or applied field', 'equipment_quantity': 1.0, 'references': ''}, {'equipment_type': 'De_Magnetizer', 'equipment_group': 'Thermal_Demagnetizer', 'equipment_name': 'MMTDSC super-cooled thermal demagnetizer', 'equipment_brand': 'Magnetic Measurements Ltd', 'equipment_website': 'See facility website', 'equipment_specifics_and_comments': 'Zero or applied field', 'equipment_quantity': 1.0, 'references': ''}, {'equipment_type': 'Controlled_Field_Area', 'equipment_group': 'Helmoltz_Coils', 'equipment_name': 'Magnetic Measurements low field cage', 'equipment_brand': 'Magnetic Measurements Ltd', 'equipment_website': 'See facility website', 'equipment_specifics_and_comments': '', 'equipment_quantity': 4.0, 'references': ''}, {'equipment_type': 'Rock_Magnetism', 'equipment_group': 'Variable_Field_Translation_Balance', 'equipment_name': 'Magnetic Measurements variable field translation balance', 'equipment_brand': 'Magnetic Measurements Ltd', 'equipment_website': 'See facility website', 'equipment_specifics_and_comments': '', 'equipment_quantity': 1.0, 'references': ''}, {'equipment_type': 'De_Magnetizer', 'equipment_group': 'Thermal_Demagnetizer', 'equipment_name': 'Other', 'equipment_secondary_name': 'MMTD24', 'equipment_brand': 'Magnetic Measurements Ltd', 'equipment_website': 'See facility website', 'equipment_specifics_and_comments': 'Zero or applied field', 'equipment_quantity': 2.0, 'references': ''}, {'equipment_type': 'De_Magnetizer', 'equipment_group': 'Thermal_Demagnetizer', 'equipment_name': 'Other', 'equipment_secondary_name': 'Slow-cooling oven', 'equipment_brand': 'Built in-house', 'equipment_website': 'See facility website', 'equipment_specifics_and_comments': 'Cools over 1-2 days in zero or applied field', 'equipment_quantity': 1.0, 'references': 'Biggin et al., 2013. GJI 193, 1239-1249.'}], 'measurement': [{'measurement_type': 'Magnetic_Properties', 'measurement_group': 'Hysteresis_Curves', 'measurement_name': '(Backfield) hysteresis curves', 'measured_type_specifics_and_comments': '', 'references': ''}, {'measurement_type': 'Remanent_Magnetisation', 'measurement_group': 'Demagnetization', 'measurement_name': 'AF demagnetization', 'measured_type_specifics_and_comments': '', 'references': ''}, {'measurement_type': 'Remanent_Magnetisation', 'measurement_group': 'Paleointensity', 'measurement_name': 'Absolute paleointensity', 'measured_type_specifics_and_comments': 'Thermal or microwave Thellier, Shaw', 'references': ''}, {'measurement_type': 'Magnetic_Susceptibility', 'measurement_group': 'Anisotropy', 'measurement_name': 'Anisotropy of magnetic susceptibility at room temperature', 'measured_type_specifics_and_comments': '', 'references': ''}, {'measurement_type': 'Magnetic_Susceptibility', 'measurement_group': 'Susceptibility', 'measurement_name': 'Bulk magnetic susceptibility', 'measured_type_specifics_and_comments': '', 'references': ''}, {'measurement_type': 'Magnetic_Properties', 'measurement_group': 'Thermomagnetic_Curves', 'measurement_name': 'High field thermomagnetic curves', 'measured_type_specifics_and_comments': '', 'references': ''}, {'measurement_type': 'Magnetic_Properties', 'measurement_group': 'Hysteresis_Curves', 'measurement_name': 'Hysteresis parameters', 'measured_type_specifics_and_comments': '', 'references': ''}, {'measurement_type': 'Magnetic_Susceptibility', 'measurement_group': 'Susceptibility', 'measurement_name': 'Temperature dependence magnetic susceptibility', 'measured_type_specifics_and_comments': '', 'references': ''}, {'measurement_type': 'Remanent_Magnetisation', 'measurement_group': 'Demagnetization', 'measurement_name': 'Thermal demagnetisation', 'measured_type_specifics_and_comments': '', 'references': ''}]}, 'data_services': [{'service_type': 'TCS_portal_redirection', 'link_label': 'More facility information', 'URL': 'https://epos-msl.uu.nl/organization/about/'}, {'service_type': 'TNA_redirection', 'link_label': 'More information about TNA possibilities at this lab', 'URL': 'will be assigned later'}]}}\n"
     ]
    }
   ],
   "source": [
    "print(new_lab.facility_info)"
   ]
  }
 ],
 "metadata": {
  "kernelspec": {
   "display_name": "TCS_MSL_env",
   "language": "python",
   "name": "tcs_msl_env"
  },
  "language_info": {
   "codemirror_mode": {
    "name": "ipython",
    "version": 3
   },
   "file_extension": ".py",
   "mimetype": "text/x-python",
   "name": "python",
   "nbconvert_exporter": "python",
   "pygments_lexer": "ipython3",
   "version": "3.7.7"
  }
 },
 "nbformat": 4,
 "nbformat_minor": 4
}
