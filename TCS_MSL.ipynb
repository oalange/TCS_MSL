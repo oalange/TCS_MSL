{
 "cells": [
  {
   "cell_type": "markdown",
   "metadata": {
    "toc-hr-collapsed": false
   },
   "source": [
    "# The TCS_MSL datamanager's toolbox"
   ]
  },
  {
   "cell_type": "code",
   "execution_count": 1,
   "metadata": {},
   "outputs": [],
   "source": [
    "import infra, tcs_portal, os"
   ]
  },
  {
   "cell_type": "markdown",
   "metadata": {},
   "source": [
    "## Generating laboratory information from Excel templates\n",
    "\n",
    "### Identifiers\n",
    "\n",
    "Initially we started assigning identifiers to labs in CKAN based on Damian Ulbricht's identifiersfile. Since the templates are going to play an essential role in the assignment of names the scenario has changed a bit.\n",
    "\n",
    "_*New structure*_\n",
    "\n",
    "- The assingment of an identifier remains based on the hash of a certain input string\n",
    "- Formerly, this input string was built as 'name, (affiliation, country)'\n",
    "- Because of the reality of possibly changing names, the input string no longer reflects any meaning (i.e. it does not longer reflect the preferred name by definition)\n",
    "- Therefore, the centralized identifiersfile at GitLab will be comprised of the following JSON-keys:\n",
    "    - 'domain'\n",
    "    - 'inputstring' (fixed together with the identifier, also used for checking)\n",
    "    - 'preferred name' (may change)\n",
    "    - 'affiliation'\n",
    "    - 'identifier'\n",
    "- Algorithm in labinfo-extraction from Excel:\n",
    "    - get name from **required** field name\n",
    "    - if name in {idsfile:inputstring} get corresponding identifier\n",
    "    - else get preferred name ('if other') [could be that this name has been used as inputstring in the past]\n",
    "    - if preferred name in {idsfile:inputstring} get corresponding identifier\n",
    "    - else: lab cannot be disambiguated to existing entry >> possibly new lab\n",
    "    - if possibly new lab generate new id with inputstring {if exists pref name, else name}+(city, country)} [first check on instring city/country (pref-) name]"
   ]
  },
  {
   "cell_type": "code",
   "execution_count": 2,
   "metadata": {},
   "outputs": [],
   "source": [
    "# settings\n",
    "\n",
    "working_dir = '/Users/otto/Documents/GitHub/TCS_MSL'\n",
    "\n",
    "PALEOTEMPLATE = '/Users/otto/ownCloud - EPOS/WP16/LABS description service/Lab info collected/Paleomag/Updated_Paleomag_Lab_Description_V6.2/TEMPLATE_Laboratory description_paleomagnetism_V6.2.xlsx'\n",
    "\n",
    "PALEOFILES = '/Users/otto/ownCloud - EPOS/WP16/LABS description service/Lab info collected/Paleomag/Updated_Paleomag_Lab_Description_V6.2/'\n",
    "\n",
    "ROCKTEMPLATE = '/Users/otto/ownCloud - EPOS/WP16/LABS description service/Lab info collected/Rock physics/Updated_Rock_Physics_Lab_Description_V3.2/TEMPLATE_Laboratory description_rock physics_V3.2.xlsx'\n",
    "\n",
    "ROCKFILES = '/Users/otto/ownCloud - EPOS/WP16/LABS description service/Lab info collected/Rock physics/Updated_Rock_Physics_Lab_Description_V3.2/'\n",
    "\n",
    "ANALYTICALTEMPLATE = '/Users/otto/ownCloud - EPOS/WP16/LABS description service/Lab info collected/Analytical&Microscopy/Updated_Analytical&Microscopy_Lab_Description_V3.1/TEMPLATE_Laboratory description_analytical labs_V3.1.xlsx'\n",
    "\n",
    "ANALYTICALFILES = '/Users/otto/ownCloud - EPOS/WP16/LABS description service/Lab info collected/Analytical&Microscopy/Updated_Analytical&Microscopy_Lab_Description_V3.1/'\n",
    "\n",
    "ANALOGUETEMPLATE = '/Users/otto/ownCloud - EPOS/WP16/LABS description service/Lab info collected/Analogue modelling/Updated_Analogue_Lab_Description_V3/TEMPLATE_Laboratory description_analogue modelling_V3.xlsx'\n",
    "\n",
    "ANALOGUEFILES = '/Users/otto/ownCloud - EPOS/WP16/LABS description service/Lab info collected/Analogue modelling/Updated_Analogue_Lab_Description_V3/'\n",
    "    \n",
    "IDENTIFIERSFILE = '/Users/otto/ownCloud - EPOS/WP16/LABS description service/Lab info collected/lab_identifiers.json'\n",
    "\n",
    "JSONOUTPUT = '/Users/otto/Documents/GitLab/inframsl/labs.json'\n",
    "\n",
    "JSONOUTPUT_ISSUES = '/Users/otto/Documents/GitLab/inframsl/labs_issues.json'"
   ]
  },
  {
   "cell_type": "code",
   "execution_count": 3,
   "metadata": {},
   "outputs": [
    {
     "name": "stdout",
     "output_type": "stream",
     "text": [
      "/Users/otto/ownCloud - EPOS/WP16/LABS description service/Lab info collected/Paleomag/Updated_Paleomag_Lab_Description_V6.2//json_out outputfolder exists.\n",
      "Paleomagnetic Laboratory (Università di Roma TRE, Italy)\n",
      "Data publications: 0\n"
     ]
    },
    {
     "ename": "NameError",
     "evalue": "name 'research_field' is not defined",
     "output_type": "error",
     "traceback": [
      "\u001b[0;31m---------------------------------------------------------------------------\u001b[0m",
      "\u001b[0;31mNameError\u001b[0m                                 Traceback (most recent call last)",
      "\u001b[0;32m<ipython-input-3-359c656fc915>\u001b[0m in \u001b[0;36m<module>\u001b[0;34m\u001b[0m\n\u001b[0;32m----> 1\u001b[0;31m \u001b[0minfra\u001b[0m\u001b[0;34m.\u001b[0m\u001b[0mrunConversion\u001b[0m\u001b[0;34m(\u001b[0m\u001b[0;34m)\u001b[0m\u001b[0;34m\u001b[0m\u001b[0;34m\u001b[0m\u001b[0m\n\u001b[0m",
      "\u001b[0;32m~/GitHub/TCS_MSL/infra.py\u001b[0m in \u001b[0;36mrunConversion\u001b[0;34m(PALEOTEMPLATE, PALEOFILES, ROCKTEMPLATE, ROCKFILES, ANALYTICALTEMPLATE, ANALYTICALFILES, ANALOGUETEMPLATE, ANALOGUEFILES, IDENTIFIERSFILE, JSONOUTPUT, JSONOUTPUT_ISSUES)\u001b[0m\n\u001b[1;32m    600\u001b[0m         \u001b[0;32mfor\u001b[0m \u001b[0mfile\u001b[0m \u001b[0;32min\u001b[0m \u001b[0mfiles\u001b[0m\u001b[0;34m:\u001b[0m\u001b[0;34m\u001b[0m\u001b[0;34m\u001b[0m\u001b[0m\n\u001b[1;32m    601\u001b[0m             \u001b[0mfileName\u001b[0m \u001b[0;34m=\u001b[0m \u001b[0mfile\u001b[0m\u001b[0;34m.\u001b[0m\u001b[0mrsplit\u001b[0m\u001b[0;34m(\u001b[0m\u001b[0;34m'/'\u001b[0m\u001b[0;34m,\u001b[0m\u001b[0;36m1\u001b[0m\u001b[0;34m)\u001b[0m\u001b[0;34m[\u001b[0m\u001b[0;36m1\u001b[0m\u001b[0;34m]\u001b[0m\u001b[0;34m\u001b[0m\u001b[0;34m\u001b[0m\u001b[0m\n\u001b[0;32m--> 602\u001b[0;31m             \u001b[0mprocessExcel\u001b[0m\u001b[0;34m(\u001b[0m\u001b[0mresearch_field\u001b[0m\u001b[0;34m,\u001b[0m \u001b[0msubdomain\u001b[0m\u001b[0;34m,\u001b[0m\u001b[0mfile\u001b[0m\u001b[0;34m,\u001b[0m \u001b[0moutputDir\u001b[0m\u001b[0;34m,\u001b[0m\u001b[0mtemplateFile\u001b[0m\u001b[0;34m,\u001b[0m\u001b[0mallIDs\u001b[0m\u001b[0;34m)\u001b[0m\u001b[0;34m\u001b[0m\u001b[0;34m\u001b[0m\u001b[0m\n\u001b[0m\u001b[1;32m    603\u001b[0m \u001b[0;34m\u001b[0m\u001b[0m\n\u001b[1;32m    604\u001b[0m     \u001b[0mlog\u001b[0m \u001b[0;34m=\u001b[0m \u001b[0;34m[\u001b[0m\u001b[0;34m]\u001b[0m\u001b[0;34m\u001b[0m\u001b[0;34m\u001b[0m\u001b[0m\n",
      "\u001b[0;32m~/GitHub/TCS_MSL/infra.py\u001b[0m in \u001b[0;36mprocessExcel\u001b[0;34m(research_field, subdomain, fullLabfilePath, outputDir, templateFile, IDs)\u001b[0m\n\u001b[1;32m    508\u001b[0m     \u001b[0mbook\u001b[0m \u001b[0;34m=\u001b[0m \u001b[0mexcelWB\u001b[0m\u001b[0;34m(\u001b[0m\u001b[0mfullLabfilePath\u001b[0m\u001b[0;34m)\u001b[0m\u001b[0;34m\u001b[0m\u001b[0;34m\u001b[0m\u001b[0m\n\u001b[1;32m    509\u001b[0m     \u001b[0mtemplate\u001b[0m \u001b[0;34m=\u001b[0m \u001b[0mexcelWB\u001b[0m\u001b[0;34m(\u001b[0m\u001b[0mtemplateFile\u001b[0m\u001b[0;34m)\u001b[0m\u001b[0;34m\u001b[0m\u001b[0;34m\u001b[0m\u001b[0m\n\u001b[0;32m--> 510\u001b[0;31m     \u001b[0mnewLab\u001b[0m \u001b[0;34m=\u001b[0m \u001b[0mlab\u001b[0m\u001b[0;34m(\u001b[0m\u001b[0mbook\u001b[0m\u001b[0;34m,\u001b[0m \u001b[0mresearch_field\u001b[0m\u001b[0;34m,\u001b[0m \u001b[0msubdomain\u001b[0m\u001b[0;34m,\u001b[0m \u001b[0mtemplate\u001b[0m\u001b[0;34m,\u001b[0m \u001b[0mIDs\u001b[0m\u001b[0;34m)\u001b[0m\u001b[0;34m\u001b[0m\u001b[0;34m\u001b[0m\u001b[0m\n\u001b[0m\u001b[1;32m    511\u001b[0m     \u001b[0;32mif\u001b[0m \u001b[0mnewLab\u001b[0m\u001b[0;34m.\u001b[0m\u001b[0mlabInfo\u001b[0m\u001b[0;34m[\u001b[0m\u001b[0;34m'facility'\u001b[0m\u001b[0;34m]\u001b[0m\u001b[0;34m.\u001b[0m\u001b[0mget\u001b[0m\u001b[0;34m(\u001b[0m\u001b[0;34m'lab_id'\u001b[0m\u001b[0;34m)\u001b[0m \u001b[0;34m!=\u001b[0m \u001b[0;34m''\u001b[0m\u001b[0;34m:\u001b[0m\u001b[0;34m\u001b[0m\u001b[0;34m\u001b[0m\u001b[0m\n\u001b[1;32m    512\u001b[0m         \u001b[0;31m# we only add labs with a valid identifier to the allLabs export for ICS\u001b[0m\u001b[0;34m\u001b[0m\u001b[0;34m\u001b[0m\u001b[0;34m\u001b[0m\u001b[0m\n",
      "\u001b[0;32m~/GitHub/TCS_MSL/infra.py\u001b[0m in \u001b[0;36m__init__\u001b[0;34m(self, labWb, research_field, subdomain, templateWb, IDs)\u001b[0m\n\u001b[1;32m    238\u001b[0m         \u001b[0mself\u001b[0m\u001b[0;34m.\u001b[0m\u001b[0mIDs\u001b[0m \u001b[0;34m=\u001b[0m \u001b[0mIDs\u001b[0m\u001b[0;34m\u001b[0m\u001b[0;34m\u001b[0m\u001b[0m\n\u001b[1;32m    239\u001b[0m         \u001b[0mself\u001b[0m\u001b[0;34m.\u001b[0m\u001b[0mlabInfo\u001b[0m \u001b[0;34m=\u001b[0m \u001b[0;34m{\u001b[0m\u001b[0;34m}\u001b[0m\u001b[0;34m\u001b[0m\u001b[0;34m\u001b[0m\u001b[0m\n\u001b[0;32m--> 240\u001b[0;31m         \u001b[0mself\u001b[0m\u001b[0;34m.\u001b[0m\u001b[0mreadLabInfo\u001b[0m\u001b[0;34m(\u001b[0m\u001b[0;34m)\u001b[0m\u001b[0;34m\u001b[0m\u001b[0;34m\u001b[0m\u001b[0m\n\u001b[0m\u001b[1;32m    241\u001b[0m         \u001b[0mself\u001b[0m\u001b[0;34m.\u001b[0m\u001b[0mlabID\u001b[0m \u001b[0;34m=\u001b[0m \u001b[0;34m''\u001b[0m\u001b[0;34m\u001b[0m\u001b[0;34m\u001b[0m\u001b[0m\n\u001b[1;32m    242\u001b[0m \u001b[0;34m\u001b[0m\u001b[0m\n",
      "\u001b[0;32m~/GitHub/TCS_MSL/infra.py\u001b[0m in \u001b[0;36mreadLabInfo\u001b[0;34m(self)\u001b[0m\n\u001b[1;32m    492\u001b[0m \u001b[0;34m\u001b[0m\u001b[0m\n\u001b[1;32m    493\u001b[0m     \u001b[0;32mdef\u001b[0m \u001b[0mreadLabInfo\u001b[0m\u001b[0;34m(\u001b[0m\u001b[0mself\u001b[0m\u001b[0;34m)\u001b[0m\u001b[0;34m:\u001b[0m\u001b[0;34m\u001b[0m\u001b[0;34m\u001b[0m\u001b[0m\n\u001b[0;32m--> 494\u001b[0;31m         \u001b[0mself\u001b[0m\u001b[0;34m.\u001b[0m\u001b[0mlabInfo\u001b[0m \u001b[0;34m=\u001b[0m \u001b[0mself\u001b[0m\u001b[0;34m.\u001b[0m\u001b[0mfillGeneralLabInfo\u001b[0m\u001b[0;34m(\u001b[0m\u001b[0;34m)\u001b[0m\u001b[0;34m\u001b[0m\u001b[0;34m\u001b[0m\u001b[0m\n\u001b[0m\u001b[1;32m    495\u001b[0m \u001b[0;34m\u001b[0m\u001b[0m\n\u001b[1;32m    496\u001b[0m     \u001b[0;32mdef\u001b[0m \u001b[0mgetValue\u001b[0m\u001b[0;34m(\u001b[0m\u001b[0mself\u001b[0m\u001b[0;34m,\u001b[0m \u001b[0mkeyName\u001b[0m\u001b[0;34m)\u001b[0m\u001b[0;34m:\u001b[0m\u001b[0;34m\u001b[0m\u001b[0;34m\u001b[0m\u001b[0m\n",
      "\u001b[0;32m~/GitHub/TCS_MSL/infra.py\u001b[0m in \u001b[0;36mfillGeneralLabInfo\u001b[0;34m(self)\u001b[0m\n\u001b[1;32m    362\u001b[0m                     \u001b[0;34m'gps'\u001b[0m \u001b[0;34m:\u001b[0m \u001b[0mgps\u001b[0m\u001b[0;34m,\u001b[0m\u001b[0;34m\u001b[0m\u001b[0;34m\u001b[0m\u001b[0m\n\u001b[1;32m    363\u001b[0m                     \u001b[0;34m'website'\u001b[0m \u001b[0;34m:\u001b[0m \u001b[0mself\u001b[0m\u001b[0;34m.\u001b[0m\u001b[0mlabWb\u001b[0m\u001b[0;34m.\u001b[0m\u001b[0mgetFieldValue\u001b[0m\u001b[0;34m(\u001b[0m\u001b[0;34m'Facility website'\u001b[0m\u001b[0;34m,\u001b[0m\u001b[0mself\u001b[0m\u001b[0;34m.\u001b[0m\u001b[0mtemplateWb\u001b[0m\u001b[0;34m.\u001b[0m\u001b[0mactiveSheet\u001b[0m\u001b[0;34m)\u001b[0m\u001b[0;34m,\u001b[0m\u001b[0;34m\u001b[0m\u001b[0;34m\u001b[0m\u001b[0m\n\u001b[0;32m--> 364\u001b[0;31m                     \u001b[0;34m'lab_services'\u001b[0m \u001b[0;34m:\u001b[0m \u001b[0mself\u001b[0m\u001b[0;34m.\u001b[0m\u001b[0mfillLabServices\u001b[0m\u001b[0;34m(\u001b[0m\u001b[0;34m)\u001b[0m\u001b[0;34m,\u001b[0m\u001b[0;34m\u001b[0m\u001b[0;34m\u001b[0m\u001b[0m\n\u001b[0m\u001b[1;32m    365\u001b[0m                     'data_services' : dataServices},\n\u001b[1;32m    366\u001b[0m                     }\n",
      "\u001b[0;32m~/GitHub/TCS_MSL/infra.py\u001b[0m in \u001b[0;36mfillLabServices\u001b[0;34m(self)\u001b[0m\n\u001b[1;32m    483\u001b[0m             \u001b[0mmeasurementTypes\u001b[0m \u001b[0;34m=\u001b[0m \u001b[0;34m[\u001b[0m\u001b[0;34m]\u001b[0m\u001b[0;34m\u001b[0m\u001b[0;34m\u001b[0m\u001b[0m\n\u001b[1;32m    484\u001b[0m \u001b[0;34m\u001b[0m\u001b[0m\n\u001b[0;32m--> 485\u001b[0;31m         returnValue = {'research_field': research_field, \n\u001b[0m\u001b[1;32m    486\u001b[0m                           \u001b[0;34m'subdomain'\u001b[0m\u001b[0;34m:\u001b[0m \u001b[0;34m[\u001b[0m\u001b[0msubdomain\u001b[0m\u001b[0;34m]\u001b[0m\u001b[0;34m,\u001b[0m\u001b[0;34m\u001b[0m\u001b[0;34m\u001b[0m\u001b[0m\n\u001b[1;32m    487\u001b[0m                           \u001b[0;34m'equipment'\u001b[0m \u001b[0;34m:\u001b[0m \u001b[0mequipmentTypes\u001b[0m\u001b[0;34m,\u001b[0m\u001b[0;34m\u001b[0m\u001b[0;34m\u001b[0m\u001b[0m\n",
      "\u001b[0;31mNameError\u001b[0m: name 'research_field' is not defined"
     ]
    }
   ],
   "source": [
    "infra.runConversion()"
   ]
  },
  {
   "cell_type": "code",
   "execution_count": null,
   "metadata": {},
   "outputs": [],
   "source": [
    "myCKAN = tcs_portal.TCS_PortalRequests()"
   ]
  },
  {
   "cell_type": "code",
   "execution_count": null,
   "metadata": {},
   "outputs": [],
   "source": [
    "ids = myCKAN.retrieveAllIdentifiers()"
   ]
  },
  {
   "cell_type": "code",
   "execution_count": null,
   "metadata": {},
   "outputs": [],
   "source": [
    "print(ids)"
   ]
  },
  {
   "cell_type": "code",
   "execution_count": null,
   "metadata": {},
   "outputs": [],
   "source": [
    "print(myCKAN.identifierInPortal('09e434194091574963c80f83d586875d'))"
   ]
  },
  {
   "cell_type": "code",
   "execution_count": null,
   "metadata": {},
   "outputs": [],
   "source": [
    "print(myCKAN.identifierInPortal('009e434194091574963c80f83d586875d'))"
   ]
  },
  {
   "cell_type": "code",
   "execution_count": null,
   "metadata": {},
   "outputs": [],
   "source": []
  }
 ],
 "metadata": {
  "kernelspec": {
   "display_name": "Python 3",
   "language": "python",
   "name": "python3"
  },
  "language_info": {
   "codemirror_mode": {
    "name": "ipython",
    "version": 3
   },
   "file_extension": ".py",
   "mimetype": "text/x-python",
   "name": "python",
   "nbconvert_exporter": "python",
   "pygments_lexer": "ipython3",
   "version": "3.7.3"
  }
 },
 "nbformat": 4,
 "nbformat_minor": 4
}
